{
 "cells": [
  {
   "cell_type": "code",
   "execution_count": 21,
   "id": "1f271155",
   "metadata": {},
   "outputs": [
    {
     "name": "stdout",
     "output_type": "stream",
     "text": [
      "\n",
      "=== Produk Terlaris ===\n",
      "  product_id         product_name  total_revenue\n",
      "0    PROD001        Laptop Pro 15    390000000.0\n",
      "1    PROD002         Smartphone X    238000000.0\n",
      "2    PROD008          Sepatu Lari     18750000.0\n",
      "3    PROD004  Mechanical Keyboard     14400000.0\n",
      "4    PROD041       Tablet 10 inch     13500000.0\n",
      "\n",
      "=== Pelanggan Paling Berharga ===\n",
      "  customer_id customer_location  total_spent\n",
      "0     CUST005           Jakarta  111600000.0\n",
      "1     CUST033           Jakarta   90600000.0\n",
      "2     CUST021           Jakarta   62500000.0\n",
      "3     CUST001           Jakarta   56590000.0\n",
      "4     CUST029           Jakarta   52200000.0\n",
      "5     CUST041          Surabaya   51800000.0\n",
      "6     CUST018           Jakarta   50200000.0\n",
      "7     CUST037           Jakarta   31500000.0\n",
      "8     CUST025           Jakarta   31300000.0\n",
      "9     CUST071          Denpasar   30000000.0\n"
     ]
    }
   ],
   "source": [
    "import pandas as pd\n",
    "import matplotlib.pyplot as plt\n",
    "from helper.generate import load_query\n",
    "from service import postgres_svc\n",
    "\n",
    "postgres_svc.connect()\n",
    "\n",
    "query_products = load_query(\"resources/query.sql\", \"top_products\")\n",
    "query_customers = load_query(\"resources/query.sql\", \"top_customers\")\n",
    "query_monthly = load_query(\"resources/query.sql\", \"monthly_revenue\")\n",
    "\n",
    "df_products = postgres_svc.read_query(query_products)\n",
    "df_customers = postgres_svc.read_query(query_customers)\n",
    "df_monthly = postgres_svc.read_query(query_monthly)\n",
    "\n",
    "print(\"\\n=== Produk Terlaris ===\")\n",
    "print(df_products)\n",
    "\n",
    "print(\"\\n=== Pelanggan Paling Berharga ===\")\n",
    "print(df_customers)\n",
    "\n",
    "df_products.to_csv(\"resources/top_products.csv\")\n",
    "df_customers.to_csv(\"resources/top_customers.csv\")\n",
    "\n",
    "\n"
   ]
  }
 ],
 "metadata": {
  "language_info": {
   "name": "python"
  }
 },
 "nbformat": 4,
 "nbformat_minor": 5
}
